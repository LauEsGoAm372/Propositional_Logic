{
  "cells": [
    {
      "cell_type": "code",
      "source": [
        "!pip install truth-table-generator\n",
        "import ttg"
      ],
      "metadata": {
        "tags": [],
        "cell_id": "400a4222138a4b129f96bc6e1eaeca5d",
        "source_hash": "cd3c6787",
        "is_code_hidden": false,
        "execution_start": 1662699080155,
        "execution_millis": 2862,
        "is_output_hidden": true,
        "deepnote_to_be_reexecuted": false,
        "deepnote_cell_type": "code",
        "id": "HG9XrvbUdGXg",
        "outputId": "c90e330a-8843-478c-8c58-667ff0c081a2"
      },
      "outputs": [
        {
          "name": "stdout",
          "text": "Requirement already satisfied: truth-table-generator in /root/venv/lib/python3.9/site-packages (1.1.2)\nRequirement already satisfied: jinja2 in /shared-libs/python3.9/py-core/lib/python3.9/site-packages (from truth-table-generator) (2.11.3)\nRequirement already satisfied: numpy in /shared-libs/python3.9/py/lib/python3.9/site-packages (from truth-table-generator) (1.23.1)\nRequirement already satisfied: pandas in /shared-libs/python3.9/py/lib/python3.9/site-packages (from truth-table-generator) (1.2.5)\nRequirement already satisfied: PTable in /root/venv/lib/python3.9/site-packages (from truth-table-generator) (0.9.2)\nRequirement already satisfied: tabulate in /shared-libs/python3.9/py/lib/python3.9/site-packages (from truth-table-generator) (0.8.10)\nRequirement already satisfied: pyparsing in /shared-libs/python3.9/py-core/lib/python3.9/site-packages (from truth-table-generator) (3.0.9)\nRequirement already satisfied: MarkupSafe>=0.23 in /shared-libs/python3.9/py-core/lib/python3.9/site-packages (from jinja2->truth-table-generator) (2.0.1)\nRequirement already satisfied: python-dateutil>=2.7.3 in /shared-libs/python3.9/py-core/lib/python3.9/site-packages (from pandas->truth-table-generator) (2.8.2)\nRequirement already satisfied: pytz>=2017.3 in /shared-libs/python3.9/py/lib/python3.9/site-packages (from pandas->truth-table-generator) (2022.1)\nRequirement already satisfied: six>=1.5 in /shared-libs/python3.9/py-core/lib/python3.9/site-packages (from python-dateutil>=2.7.3->pandas->truth-table-generator) (1.16.0)\n\u001b[33mWARNING: You are using pip version 22.0.4; however, version 22.2.2 is available.\nYou should consider upgrading via the '/root/venv/bin/python -m pip install --upgrade pip' command.\u001b[0m\u001b[33m\n\u001b[0m",
          "output_type": "stream"
        }
      ],
      "execution_count": null
    },
    {
      "cell_type": "markdown",
      "source": [
        "# Solución Primer Laboratorio\n",
        "Elaborador por Laura Gomez"
      ],
      "metadata": {
        "tags": [],
        "cell_id": "f0a76dd4d5c1407db1cd3bdcc01d8126",
        "deepnote_cell_type": "markdown",
        "id": "KIgK3jV7dGXj"
      }
    },
    {
      "cell_type": "markdown",
      "source": [
        "# Parte 1\n",
        "Dado que la proposición **p** es falsa, la proposición **q** es verdadera y la proposición **r** es falsa, determine si cada proposición en los ejercicios 17: 22 es verdadero o falso."
      ],
      "metadata": {
        "tags": [],
        "cell_id": "66a761d42e0e42ff9b9b9eade6a46705",
        "deepnote_cell_type": "markdown",
        "id": "DQfV-h2fdGXl"
      }
    },
    {
      "cell_type": "markdown",
      "source": [
        "**Ejercicio 17:**     $P \\vee Q$\n",
        "**Ejercicio 18:**     $\\neg P \\vee \\neg Q$\n",
        "**Ejercicio 19:**     $\\neg P \\vee Q$\n",
        "**Ejercicio 20:**     $\\neg P \\vee \\neg(Q \\wedge R)$\n",
        "**Ejercicio 21:**     $\\neg (P \\vee Q) \\wedge (\\neg P \\vee R)$\n",
        "**Ejercicio 22:**     $(P \\vee \\neg R) \\wedge \\neg((P \\vee R) \\vee \\neg(R \\vee P))$"
      ],
      "metadata": {
        "tags": [],
        "cell_id": "db148e3216e2460aaa5bee54f9372b30",
        "deepnote_cell_type": "markdown",
        "id": "K7ByHm0kdGXl"
      }
    },
    {
      "cell_type": "code",
      "source": [
        "P= False\n",
        "Q=True\n",
        "R=False\n",
        "\n",
        "print('La proposición del Ejercicio 17 es: ', P or Q)\n",
        "print('La proposición del Ejercicio 18 es: ', not(P) or not(Q))\n",
        "print('La proposición del Ejercicio 19 es: ', not(P) or Q )\n",
        "print('La proposición del Ejercicio 20 es: ', not(P) or not(Q and R))\n",
        "print('La proposición del Ejercicio 21 es: ', not(P or Q) and (not(P) or R))\n",
        "print('La proposición del Ejercicio 22 es: ', (P or not(Q)) and not((Q or R) or not(R or P)))"
      ],
      "metadata": {
        "tags": [],
        "cell_id": "acc0605a94134dc9934e9b1dd6e1150e",
        "source_hash": "914803b6",
        "execution_start": 1662699083059,
        "execution_millis": 4,
        "deepnote_to_be_reexecuted": false,
        "deepnote_cell_type": "code",
        "id": "EoFwopfJdGXm",
        "outputId": "9a9f1230-f8d9-4f60-a07c-11aefe442df1"
      },
      "outputs": [
        {
          "name": "stdout",
          "text": "La proposición del Ejercicio 17 es:  True\nLa proposición del Ejercicio 18 es:  True\nLa proposición del Ejercicio 19 es:  True\nLa proposición del Ejercicio 20 es:  True\nLa proposición del Ejercicio 21 es:  False\nLa proposición del Ejercicio 22 es:  False\n",
          "output_type": "stream"
        }
      ],
      "execution_count": null
    },
    {
      "cell_type": "markdown",
      "source": [
        "# Parte 2\n"
      ],
      "metadata": {
        "tags": [],
        "cell_id": "2adde3d70c964884a0776b8bf1f8eb89",
        "deepnote_cell_type": "markdown",
        "id": "Smfi4xG7dGXm"
      }
    },
    {
      "cell_type": "markdown",
      "source": [
        "## **Ejercicio  8:**\n",
        "Use tablas de verdad para determinar cuáles de las siguientes fórmulas son equivalentes entre sí:\n",
        "\n",
        "**Punto a)**   $(P \\wedge Q) \\vee (\\neg P \\wedge \\neg Q) $"
      ],
      "metadata": {
        "tags": [],
        "cell_id": "fee4962120124b78923aa764a221f4fd",
        "deepnote_cell_type": "markdown",
        "id": "9U-dOgW_dGXn"
      }
    },
    {
      "cell_type": "code",
      "source": [
        "tablea = ttg.Truths(['p','q'],['(p and q) or (-p and -q)'], ints=False)\n",
        "print(tablea)"
      ],
      "metadata": {
        "tags": [],
        "cell_id": "fbf7caac3fa646b38d504ca49f0fa479",
        "source_hash": "fb6259d1",
        "execution_start": 1662699083060,
        "execution_millis": 45,
        "deepnote_to_be_reexecuted": false,
        "deepnote_cell_type": "code",
        "id": "875ezwWQdGXn",
        "outputId": "8d5e6151-5249-4cd8-ac21-196758cd7f54"
      },
      "outputs": [
        {
          "name": "stdout",
          "text": "+-------+-------+----------------------------+\n|   p   |   q   |  (p and q) or (-p and -q)  |\n|-------+-------+----------------------------|\n| True  | True  |            True            |\n| True  | False |           False            |\n| False | True  |           False            |\n| False | False |            True            |\n+-------+-------+----------------------------+\n",
          "output_type": "stream"
        }
      ],
      "execution_count": null
    },
    {
      "cell_type": "markdown",
      "source": [
        "**Punto b)**   $\\neg P \\vee Q $"
      ],
      "metadata": {
        "tags": [],
        "cell_id": "a10c75d2657c4a8a929de5b4412e6812",
        "deepnote_cell_type": "markdown",
        "id": "H49qTBPddGXn"
      }
    },
    {
      "cell_type": "code",
      "source": [
        "tableb = ttg.Truths(['p','q'],['-p or q'], ints=False)\n",
        "print(tableb)"
      ],
      "metadata": {
        "tags": [],
        "cell_id": "74683e12b788475caa6044e6580d9c12",
        "source_hash": "7070a66d",
        "execution_start": 1662699083104,
        "execution_millis": 2,
        "deepnote_to_be_reexecuted": false,
        "deepnote_cell_type": "code",
        "id": "G94h0JundGXo",
        "outputId": "0e52915f-0316-4cdf-b28b-32d18815f736"
      },
      "outputs": [
        {
          "name": "stdout",
          "text": "+-------+-------+-----------+\n|   p   |   q   |  -p or q  |\n|-------+-------+-----------|\n| True  | True  |   True    |\n| True  | False |   False   |\n| False | True  |   True    |\n| False | False |   True    |\n+-------+-------+-----------+\n",
          "output_type": "stream"
        }
      ],
      "execution_count": null
    },
    {
      "cell_type": "markdown",
      "source": [
        "**Punto c)**   $(P \\vee \\neg Q) \\wedge (Q \\vee \\neg P) $"
      ],
      "metadata": {
        "tags": [],
        "cell_id": "96a42ff264bf478188b93030cabfe24c",
        "deepnote_cell_type": "markdown",
        "id": "sYb4_zCndGXo"
      }
    },
    {
      "cell_type": "code",
      "source": [
        "tablec = ttg.Truths(['p','q'],['(P or -q) and (q or -p)'], ints=False)\n",
        "print(tablec)"
      ],
      "metadata": {
        "tags": [],
        "cell_id": "d20f91b7d4a34ff7b809d3d950f89c69",
        "source_hash": "b5d5663a",
        "execution_start": 1662699083148,
        "execution_millis": 3,
        "deepnote_to_be_reexecuted": false,
        "deepnote_cell_type": "code",
        "id": "a2xam6iLdGXo",
        "outputId": "bf9663c0-3cd9-4e81-907b-d3aef7623352"
      },
      "outputs": [
        {
          "name": "stdout",
          "text": "+-------+-------+---------------------------+\n|   p   |   q   |  (P or -q) and (q or -p)  |\n|-------+-------+---------------------------|\n| True  | True  |           False           |\n| True  | False |           False           |\n| False | True  |           False           |\n| False | False |           True            |\n+-------+-------+---------------------------+\n",
          "output_type": "stream"
        }
      ],
      "execution_count": null
    },
    {
      "cell_type": "markdown",
      "source": [
        "**Punto d)**   $\\neg (P \\vee Q) $"
      ],
      "metadata": {
        "tags": [],
        "cell_id": "bae031e861e54b23a18d01e9c173f009",
        "deepnote_cell_type": "markdown",
        "id": "G6qxVDHOdGXo"
      }
    },
    {
      "cell_type": "code",
      "source": [
        "tabled = ttg.Truths(['p','q'],['-(p or q)'], ints=False)\n",
        "print(tabled)"
      ],
      "metadata": {
        "tags": [],
        "cell_id": "a67877f703654d6292764decfb341e2e",
        "source_hash": "7c3e0d5c",
        "execution_start": 1662699083148,
        "execution_millis": 3,
        "deepnote_to_be_reexecuted": false,
        "deepnote_cell_type": "code",
        "id": "RoZoZ_vedGXp",
        "outputId": "f57b9add-ff05-4f6f-c45b-4f6da50c473e"
      },
      "outputs": [
        {
          "name": "stdout",
          "text": "+-------+-------+-------------+\n|   p   |   q   |  -(p or q)  |\n|-------+-------+-------------|\n| True  | True  |    False    |\n| True  | False |    False    |\n| False | True  |    False    |\n| False | False |    True     |\n+-------+-------+-------------+\n",
          "output_type": "stream"
        }
      ],
      "execution_count": null
    },
    {
      "cell_type": "markdown",
      "source": [
        "**Punto e)**   $(Q \\wedge P) \\vee \\neg P$"
      ],
      "metadata": {
        "tags": [],
        "cell_id": "79096be1f9964703871e20e0fa422e3d",
        "deepnote_cell_type": "markdown",
        "id": "qPsreqxEdGXp"
      }
    },
    {
      "cell_type": "code",
      "source": [
        "tablee = ttg.Truths(['p','q'],['(q and p) or -p'], ints=False)\n",
        "print(tablee)"
      ],
      "metadata": {
        "tags": [],
        "cell_id": "394c725109654b508427ffde4b8a1c85",
        "source_hash": "f12097ae",
        "execution_start": 1662699083149,
        "execution_millis": 43,
        "deepnote_to_be_reexecuted": false,
        "deepnote_cell_type": "code",
        "id": "XE2-zQ-CdGXp",
        "outputId": "23d3163a-16d9-46ed-be2b-f52743a9e269"
      },
      "outputs": [
        {
          "name": "stdout",
          "text": "+-------+-------+-------------------+\n|   p   |   q   |  (q and p) or -p  |\n|-------+-------+-------------------|\n| True  | True  |       True        |\n| True  | False |       False       |\n| False | True  |       True        |\n| False | False |       True        |\n+-------+-------+-------------------+\n",
          "output_type": "stream"
        }
      ],
      "execution_count": null
    },
    {
      "cell_type": "markdown",
      "source": [
        "**Se concluye que:**\n",
        " $\\neg P \\vee Q     \\equiv  (Q \\wedge P) \\vee \\neg P$"
      ],
      "metadata": {
        "tags": [],
        "cell_id": "9ad48a7334f04458a03d935d68ae5f1d",
        "deepnote_cell_type": "markdown",
        "id": "TPCyee5EdGXp"
      }
    },
    {
      "cell_type": "code",
      "source": [
        "print(\"Tabla de verdad de la formula del punto b\\n\",tableb,\"\\nTabla de verdad de la formula del punto e\\n\",tablee)"
      ],
      "metadata": {
        "tags": [],
        "cell_id": "d470027e96a64295aecf3f9be4b5620a",
        "source_hash": "d1fd3951",
        "execution_start": 1662699083233,
        "execution_millis": 3,
        "deepnote_to_be_reexecuted": false,
        "deepnote_cell_type": "code",
        "id": "x-K3Yo4TdGXp",
        "outputId": "329ca283-6583-4e35-d305-0a1d00ac0cbc"
      },
      "outputs": [
        {
          "name": "stdout",
          "text": "Tabla de verdad de la formula del punto b\n +-------+-------+-----------+\n|   p   |   q   |  -p or q  |\n|-------+-------+-----------|\n| True  | True  |   True    |\n| True  | False |   False   |\n| False | True  |   True    |\n| False | False |   True    |\n+-------+-------+-----------+ \nTabla de verdad de la formula del punto e\n +-------+-------+-------------------+\n|   p   |   q   |  (q and p) or -p  |\n|-------+-------+-------------------|\n| True  | True  |       True        |\n| True  | False |       False       |\n| False | True  |       True        |\n| False | False |       True        |\n+-------+-------+-------------------+\n",
          "output_type": "stream"
        }
      ],
      "execution_count": null
    },
    {
      "cell_type": "markdown",
      "source": [
        "**Se concluye que:**\n",
        " $(P \\vee \\neg Q) \\wedge (Q \\vee \\neg P)    \\equiv  \\neg (P \\vee Q) $"
      ],
      "metadata": {
        "tags": [],
        "cell_id": "c31f1d4355354ac5bfc10a99cea55bef",
        "deepnote_cell_type": "markdown",
        "id": "TyAx1om0dGXp"
      }
    },
    {
      "cell_type": "code",
      "source": [
        "print(\"Tabla de verdad de la formula del punto c\\n\",tablec,\"\\nTabla de verdad de la formula del punto d\\n\",tabled)"
      ],
      "metadata": {
        "tags": [],
        "cell_id": "8389be565d1843b58595edb96330578f",
        "source_hash": "2c475f72",
        "execution_start": 1662699083279,
        "execution_millis": 46,
        "deepnote_to_be_reexecuted": false,
        "deepnote_cell_type": "code",
        "id": "lCDYXohIdGXp",
        "outputId": "2dc01337-732b-425d-9d93-359f77ea5b6d"
      },
      "outputs": [
        {
          "name": "stdout",
          "text": "Tabla de verdad de la formula del punto c\n +-------+-------+---------------------------+\n|   p   |   q   |  (P or -q) and (q or -p)  |\n|-------+-------+---------------------------|\n| True  | True  |           False           |\n| True  | False |           False           |\n| False | True  |           False           |\n| False | False |           True            |\n+-------+-------+---------------------------+ \nTabla de verdad de la formula del punto d\n +-------+-------+-------------+\n|   p   |   q   |  -(p or q)  |\n|-------+-------+-------------|\n| True  | True  |    False    |\n| True  | False |    False    |\n| False | True  |    False    |\n| False | False |    True     |\n+-------+-------+-------------+\n",
          "output_type": "stream"
        }
      ],
      "execution_count": null
    },
    {
      "cell_type": "markdown",
      "source": [
        "## **Ejercicio  9:**\n",
        " Use tablas de verdad para determinar cuáles de estas declaraciones son tautologías, cuáles son contradicciones y cuáles no lo son:"
      ],
      "metadata": {
        "tags": [],
        "cell_id": "c08b0a28d6ff474897291847ec0a3957",
        "deepnote_cell_type": "markdown",
        "id": "umFTxngDdGXq"
      }
    },
    {
      "cell_type": "markdown",
      "source": [
        "**Punto a)**   $(P \\vee Q) \\wedge (\\neg P \\vee \\neg Q) $"
      ],
      "metadata": {
        "tags": [],
        "cell_id": "103868a685a346ca8643af31f2a43b3a",
        "deepnote_cell_type": "markdown",
        "id": "1_3juigrdGXq"
      }
    },
    {
      "cell_type": "code",
      "source": [
        "ta = ttg.Truths(['p','q'],['(p or q) and (-p or -q)'], ints=False)\n",
        "print(ta)"
      ],
      "metadata": {
        "tags": [],
        "cell_id": "8a080ab45ab44c85a5736ed11ee00a4d",
        "source_hash": "acd7524b",
        "execution_start": 1662699083324,
        "execution_millis": 45,
        "deepnote_to_be_reexecuted": false,
        "deepnote_cell_type": "code",
        "id": "w-zzfnOXdGXq",
        "outputId": "235afc2f-5898-4b3a-f45b-e6bfa0bf3b8d"
      },
      "outputs": [
        {
          "name": "stdout",
          "text": "+-------+-------+---------------------------+\n|   p   |   q   |  (p or q) and (-p or -q)  |\n|-------+-------+---------------------------|\n| True  | True  |           False           |\n| True  | False |           True            |\n| False | True  |           True            |\n| False | False |           False           |\n+-------+-------+---------------------------+\n",
          "output_type": "stream"
        }
      ],
      "execution_count": null
    },
    {
      "cell_type": "markdown",
      "source": [
        "**R// Se evidencia que es no es una tautologia y tampoco una contradicción**\n"
      ],
      "metadata": {
        "tags": [],
        "cell_id": "33991932f1bf49c8a597ee141710110c",
        "deepnote_cell_type": "markdown",
        "id": "7p3x3K-pdGXq"
      }
    },
    {
      "cell_type": "markdown",
      "source": [
        "**Punto b)**   $(P \\vee Q) \\wedge (\\neg P \\wedge \\neg Q) $"
      ],
      "metadata": {
        "tags": [],
        "cell_id": "eb6176fccfbe4c72b0e9f5d3d70f76cd",
        "deepnote_cell_type": "markdown",
        "id": "3kyQq4ladGXq"
      }
    },
    {
      "cell_type": "code",
      "source": [
        "tb = ttg.Truths(['p','q'],['(p or q) and (-p and -q)'], ints=False)\n",
        "print(tb)"
      ],
      "metadata": {
        "tags": [],
        "cell_id": "671385be2d954c7f83ddd52ae1a981b7",
        "source_hash": "5948decf",
        "execution_start": 1662699083368,
        "execution_millis": 2,
        "deepnote_to_be_reexecuted": false,
        "deepnote_cell_type": "code",
        "id": "mwL92nH-dGXq",
        "outputId": "f5651f38-3404-4fb6-f552-5735b38c9654"
      },
      "outputs": [
        {
          "name": "stdout",
          "text": "+-------+-------+----------------------------+\n|   p   |   q   |  (p or q) and (-p and -q)  |\n|-------+-------+----------------------------|\n| True  | True  |           False            |\n| True  | False |           False            |\n| False | True  |           False            |\n| False | False |           False            |\n+-------+-------+----------------------------+\n",
          "output_type": "stream"
        }
      ],
      "execution_count": null
    },
    {
      "cell_type": "markdown",
      "source": [
        "**R// Es una contradicción**\n"
      ],
      "metadata": {
        "tags": [],
        "cell_id": "7e9cf3c89e854f899356b8862f310326",
        "deepnote_cell_type": "markdown",
        "id": "r50ubq7XdGXq"
      }
    },
    {
      "cell_type": "markdown",
      "source": [
        "**Punto c)**   $(P \\vee Q) \\vee (\\neg P \\vee \\neg Q) $"
      ],
      "metadata": {
        "tags": [],
        "cell_id": "f96a08b2de084c83864a0bcd4381831d",
        "deepnote_cell_type": "markdown",
        "id": "9nOp8YnQdGXr"
      }
    },
    {
      "cell_type": "code",
      "source": [
        "tc = ttg.Truths(['p','q'],['(p or q) or (-p or -q)'], ints=False)\n",
        "print(tc)"
      ],
      "metadata": {
        "tags": [],
        "cell_id": "5ab99d2eb3dc4c66b176764c17b223fa",
        "source_hash": "446c6de3",
        "execution_start": 1662699083411,
        "execution_millis": 4,
        "deepnote_to_be_reexecuted": false,
        "deepnote_cell_type": "code",
        "id": "epgk7K7CdGXr",
        "outputId": "22c5ed12-65a6-4f39-d945-47a165511144"
      },
      "outputs": [
        {
          "name": "stdout",
          "text": "+-------+-------+--------------------------+\n|   p   |   q   |  (p or q) or (-p or -q)  |\n|-------+-------+--------------------------|\n| True  | True  |           True           |\n| True  | False |           True           |\n| False | True  |           True           |\n| False | False |           True           |\n+-------+-------+--------------------------+\n",
          "output_type": "stream"
        }
      ],
      "execution_count": null
    },
    {
      "cell_type": "markdown",
      "source": [
        "**R// Es una tautología**\n"
      ],
      "metadata": {
        "tags": [],
        "cell_id": "7cd21420833a4b2b8b088044986f99a5",
        "deepnote_cell_type": "markdown",
        "id": "csHoSEeKdGXr"
      }
    },
    {
      "cell_type": "markdown",
      "source": [
        "**Punto d)**   $(P \\wedge (Q \\vee \\neg R)) \\vee (\\neg P \\vee R) $"
      ],
      "metadata": {
        "tags": [],
        "cell_id": "a18553008e3543cc9611a914712236b7",
        "deepnote_cell_type": "markdown",
        "id": "ccdXB85YdGXr"
      }
    },
    {
      "cell_type": "code",
      "source": [
        "td = ttg.Truths(['p','q','r'],['(p and (q or -r)) or (-p or r)'], ints=False)\n",
        "print(td)"
      ],
      "metadata": {
        "tags": [],
        "cell_id": "9b3f229eea8145a98f9092361afb77c6",
        "source_hash": "9ea70c2d",
        "execution_start": 1662699083495,
        "execution_millis": 3,
        "deepnote_to_be_reexecuted": false,
        "deepnote_cell_type": "code",
        "id": "1C5rGii9dGXr",
        "outputId": "b8994ffc-78ff-47e5-8ac2-0d3a9e111013"
      },
      "outputs": [
        {
          "name": "stdout",
          "text": "+-------+-------+-------+----------------------------------+\n|   p   |   q   |   r   |  (p and (q or -r)) or (-p or r)  |\n|-------+-------+-------+----------------------------------|\n| True  | True  | True  |               True               |\n| True  | True  | False |               True               |\n| True  | False | True  |               True               |\n| True  | False | False |               True               |\n| False | True  | True  |               True               |\n| False | True  | False |               True               |\n| False | False | True  |               True               |\n| False | False | False |               True               |\n+-------+-------+-------+----------------------------------+\n",
          "output_type": "stream"
        }
      ],
      "execution_count": null
    },
    {
      "cell_type": "markdown",
      "source": [
        "**R// Es una tautología**\n"
      ],
      "metadata": {
        "tags": [],
        "cell_id": "f5e9b206f1e943ba82036e0790d2678d",
        "deepnote_cell_type": "markdown",
        "id": "0bwEoSGzdGXr"
      }
    },
    {
      "cell_type": "markdown",
      "source": [
        "## **Ejercicio  11:**\n",
        "Use las leyes establecidas en el texto para encontrar fórmulas más simples equivalentes a estas fórmulas"
      ],
      "metadata": {
        "tags": [],
        "cell_id": "d2ec2357307b44ab86f4d15c325e658a",
        "deepnote_cell_type": "markdown",
        "id": "GMIWM0qEdGXr"
      }
    },
    {
      "cell_type": "markdown",
      "source": [
        "**Punto a)**   $\\neg(\\neg P \\wedge \\neg Q) $\n",
        "\n",
        "**Soluciòn**\n",
        " * $\\neg(\\neg P) \\wedge \\neg(\\neg Q)$     Ley de Morgan\n",
        "\n",
        " *  $ P \\vee Q$       Doble negaciòn\n",
        "\n",
        "  "
      ],
      "metadata": {
        "tags": [],
        "cell_id": "177ea1ea8d7a4462ac1080d2b868df6c",
        "deepnote_cell_type": "markdown",
        "id": "9_EUpncidGXr"
      }
    },
    {
      "cell_type": "markdown",
      "source": [
        "**Punto b)**   $ (P \\wedge Q) \\vee (P \\wedge \\neg Q) $\n",
        "\n",
        "**Soluciòn**\n",
        " * $ P \\wedge (Q \\vee \\neg Q)$     Ley Disrtributiva\n",
        "\n",
        " *  $ P \\wedge  (Tautologia)$      Ley Tautològica\n",
        "\n",
        " * $P$\n",
        "\n",
        "  "
      ],
      "metadata": {
        "tags": [],
        "cell_id": "68bc702357b447248246e685c1532414",
        "deepnote_cell_type": "markdown",
        "id": "22w-G30FdGXr"
      }
    },
    {
      "cell_type": "markdown",
      "source": [
        "**Punto c)**   $ \\neg (P \\wedge \\neg Q) \\vee (\\neg P \\wedge Q) $\n",
        "\n",
        "**Soluciòn**\n",
        " * $ (\\neg P \\vee \\neg (\\neg Q)) \\vee (\\neg P \\wedge Q)$  Ley de Morgan\n",
        "\n",
        " *  $(\\neg P \\vee  Q) \\vee (\\neg P \\wedge Q)$   Doble negación\n",
        "\n",
        " * $ ((\\neg P \\vee Q)\\vee\\neg P ) \\wedge ((\\neg P \\vee Q)\\vee Q) $   Ley Distributiva\n",
        "\n",
        " * $ (\\neg P \\vee Q \\vee \\neg P) \\wedge (\\neg P \\vee Q\\vee Q)$    Ley Asociativa\n",
        "\n",
        " * $ (\\neg P \\vee Q \\vee \\neg P) \\wedge (\\neg P \\vee Q) $   Ley de Edipotencia\n",
        "\n",
        " * $((\\neg P \\vee Q) \\vee \\neg P) \\wedge (\\neg P \\vee Q) $  Ley Asociativa\n",
        "\n",
        " * $ ((Q \\vee \\neg P) \\vee \\neg P) \\wedge (\\neg P \\vee Q) $ Ley Conmutativa\n",
        "\n",
        " * $ (Q \\vee \\neg P \\vee \\neg P) \\wedge (\\neg P \\vee Q) $ Ley Asociativa\n",
        "\n",
        " * $ (Q \\vee \\neg P) \\wedge (\\neg P \\vee Q) $ Ley de Edipotencia\n",
        "\n",
        " * $ \\neg P \\vee Q $ Ley de Edipotencia\n",
        "\n",
        "\n",
        "  "
      ],
      "metadata": {
        "tags": [],
        "cell_id": "7a675a77dfe749c990a0893082b721d9",
        "deepnote_cell_type": "markdown",
        "id": "5i9gQkkJdGXr"
      }
    },
    {
      "cell_type": "markdown",
      "source": [
        "## **Ejercicio  12:**\n",
        "Use las leyes establecidas en el texto para encontrar fórmulas más simples equivalentes a estas fórmulas"
      ],
      "metadata": {
        "tags": [],
        "cell_id": "3da3e78cfcf947d2bf4fb094a97b06a2",
        "deepnote_cell_type": "markdown",
        "id": "O5S0C44_dGXs"
      }
    },
    {
      "cell_type": "markdown",
      "source": [
        "**Punto a)**   $ \\neg (\\neg P \\vee Q) \\vee (P \\wedge \\neg R) $\n",
        "\n",
        "**Solución**\n",
        "    \n",
        " * $ (\\neg(\\neg P) \\wedge \\neg Q) \\vee (P \\wedge \\neg R)$     Ley de Morgan\n",
        "\n",
        " * $ (P \\wedge \\neg Q) \\vee (P \\wedge \\neg R)$ Doble negación\n",
        "\n",
        " * $ ((P \\wedge \\neg Q)\\vee P ) \\wedge ((P \\wedge \\neg Q)\\vee \\neg R)$ Ley Distributiva\n",
        "\n",
        " * $P \\wedge ((P \\wedge \\neg Q) \\vee \\neg R)$ Ley de Absorción\n",
        "\n",
        "\n",
        " * $(P \\wedge (P \\wedge \\neg Q)) \\vee (P \\wedge \\neg R)$ Ley Distributiva\n",
        "\n",
        " * $((P \\wedge P) \\wedge \\neg Q) \\vee (P \\wedge \\neg R)$ Ley asociativa\n",
        "\n",
        " * $(P \\wedge \\neg Q) \\vee (P \\wedge \\neg R)$ Ley Edipotencia\n",
        ""
      ],
      "metadata": {
        "tags": [],
        "cell_id": "9dc2c22fecd348c8a1348e474d0b79d2",
        "deepnote_cell_type": "markdown",
        "id": "UOuL_OY0dGXs"
      }
    },
    {
      "cell_type": "markdown",
      "source": [
        "**Punto b)**   $ \\neg (\\neg P \\wedge Q) \\vee (P \\wedge \\neg R) $\n",
        "\n",
        "**Solución**\n",
        "    \n",
        " * $ (\\neg(\\neg P) \\vee \\neg Q) \\vee (P \\wedge \\neg R)$     Ley de Morgan\n",
        "\n",
        " * $ (P \\vee \\neg Q) \\vee (P \\wedge \\neg R)$ Doble negación\n",
        "\n",
        " * $ ((P \\vee \\neg Q)\\vee P ) \\wedge ((P \\vee \\neg Q)\\vee \\neg R)$ Ley Distributiva\n",
        "\n",
        " * $ (P \\vee \\neg Q) \\wedge ((P \\vee \\neg Q)\\vee \\neg R))$ Ley edipotencia\n",
        "\n",
        " * $ P \\vee \\neg Q $   Ley de absorción\n",
        "\n",
        "\n",
        ""
      ],
      "metadata": {
        "tags": [],
        "cell_id": "90bbb5b09b3643bcb8882ec9b6904904",
        "deepnote_cell_type": "markdown",
        "id": "6xM_e3zJdGXt"
      }
    },
    {
      "cell_type": "markdown",
      "source": [
        "**Punto c)**   $  (P \\wedge R) \\vee [\\neg R \\wedge(P \\vee Q)] $\n",
        "\n",
        "**Solución**\n",
        " * $ (P \\wedge R) \\vee [(\\neg R \\wedge P) \\vee (\\neg R \\wedge Q)] $ Ley Distributiva\n",
        "\n",
        " * $ [(P \\wedge R) \\vee (\\neg R \\wedge P)] \\vee (\\neg R \\wedge Q) $ Ley Asociativa\n",
        "\n",
        " * $[((P \\wedge R) \\vee \\neg R) \\wedge ((P \\wedge R) \\vee P)] \\vee (\\neg R \\wedge Q)$ Ley Distributiva\n",
        "\n",
        " * $[(P \\vee \\neg R) \\wedge P] \\vee (\\neg R \\wedge Q)$ Ley Absorción\n",
        "\n",
        " * $ P \\vee (\\neg R \\wedge Q)$\n",
        "\n",
        "\n",
        ""
      ],
      "metadata": {
        "tags": [],
        "cell_id": "d571d677dee141cbb53f5e18514ed7d7",
        "deepnote_cell_type": "markdown",
        "id": "2xaGhfA8dGXt"
      }
    },
    {
      "cell_type": "markdown",
      "source": [
        "# Parte 3\n"
      ],
      "metadata": {
        "tags": [],
        "cell_id": "2c4115778165448a9cf4aed4e7052607",
        "deepnote_cell_type": "markdown",
        "id": "a96kqwAmdGXt"
      }
    },
    {
      "cell_type": "markdown",
      "source": [
        "## **Ejercicio  12:**\n",
        "¿Cuáles de las siguientes fórmulas son equivalentes?\n",
        "\n",
        "**Punto a)**  \n",
        "$ P \\rightarrow (Q \\rightarrow R)$"
      ],
      "metadata": {
        "tags": [],
        "cell_id": "281fe7b6a5664408939dd55e03f058a3",
        "deepnote_cell_type": "markdown",
        "id": "yzyRAjULdGXt"
      }
    },
    {
      "cell_type": "code",
      "source": [
        "t12a = ttg.Truths(['p','q','r'],['p implies (q implies r)'], ints=False)\n",
        "print(t12a)"
      ],
      "metadata": {
        "tags": [],
        "cell_id": "d97ae96c24b4446881c73dabb910173a",
        "source_hash": "a687c9e4",
        "execution_start": 1662699083497,
        "execution_millis": 884,
        "deepnote_to_be_reexecuted": false,
        "deepnote_cell_type": "code",
        "id": "0VR06UabdGXt",
        "outputId": "2672c04e-7d72-4b77-c656-b3bd321edae5"
      },
      "outputs": [
        {
          "name": "stdout",
          "text": "+-------+-------+-------+---------------------------+\n|   p   |   q   |   r   |  p implies (q implies r)  |\n|-------+-------+-------+---------------------------|\n| True  | True  | True  |           True            |\n| True  | True  | False |           False           |\n| True  | False | True  |           True            |\n| True  | False | False |           True            |\n| False | True  | True  |           True            |\n| False | True  | False |           True            |\n| False | False | True  |           True            |\n| False | False | False |           True            |\n+-------+-------+-------+---------------------------+\n",
          "output_type": "stream"
        }
      ],
      "execution_count": null
    },
    {
      "cell_type": "markdown",
      "source": [
        "**Punto b)**\n",
        "$ Q \\rightarrow (P \\rightarrow R)$"
      ],
      "metadata": {
        "tags": [],
        "cell_id": "389c9b6de66f4988868724290bd221c4",
        "deepnote_cell_type": "markdown",
        "id": "MtAfz04TdGXu"
      }
    },
    {
      "cell_type": "code",
      "source": [
        "t12b = ttg.Truths(['p','q','r'],['q implies  (p implies r)'], ints=False)\n",
        "print(t12b)"
      ],
      "metadata": {
        "tags": [],
        "cell_id": "85f31e6f12ea44dc8a65339f5308e2b0",
        "allow_embed": false,
        "source_hash": "2b6d918e",
        "execution_start": 1662699083540,
        "execution_millis": 910,
        "deepnote_to_be_reexecuted": false,
        "deepnote_cell_type": "code",
        "id": "Ikgn-2PxdGXu",
        "outputId": "743234f9-c12e-47ba-e16f-a2d775f296d4"
      },
      "outputs": [
        {
          "name": "stdout",
          "text": "+-------+-------+-------+----------------------------+\n|   p   |   q   |   r   |  q implies  (p implies r)  |\n|-------+-------+-------+----------------------------|\n| True  | True  | True  |            True            |\n| True  | True  | False |           False            |\n| True  | False | True  |            True            |\n| True  | False | False |            True            |\n| False | True  | True  |            True            |\n| False | True  | False |            True            |\n| False | False | True  |            True            |\n| False | False | False |            True            |\n+-------+-------+-------+----------------------------+\n",
          "output_type": "stream"
        }
      ],
      "execution_count": null
    },
    {
      "cell_type": "markdown",
      "source": [
        "**Punto c)**\n",
        "$(P \\rightarrow Q) \\wedge (P \\rightarrow R)$"
      ],
      "metadata": {
        "tags": [],
        "cell_id": "1fbec52ad9d047fa848923d05e66b23e",
        "deepnote_cell_type": "markdown",
        "id": "EicLF0YZdGXu"
      }
    },
    {
      "cell_type": "code",
      "source": [
        "t12c = ttg.Truths(['p','q','r'],['(p implies q ) and (p implies r)'], ints=False)\n",
        "print(t12c)"
      ],
      "metadata": {
        "tags": [],
        "cell_id": "6a3f41b2e3f443469a891284ff81bfa7",
        "source_hash": "22686265",
        "execution_start": 1662699083579,
        "execution_millis": 882,
        "deepnote_to_be_reexecuted": false,
        "deepnote_cell_type": "code",
        "id": "cUEdixQ8dGXu",
        "outputId": "61d49f5f-624f-4ec5-8f28-93a1cfb0701b"
      },
      "outputs": [
        {
          "name": "stdout",
          "text": "+-------+-------+-------+------------------------------------+\n|   p   |   q   |   r   |  (p implies q ) and (p implies r)  |\n|-------+-------+-------+------------------------------------|\n| True  | True  | True  |                True                |\n| True  | True  | False |               False                |\n| True  | False | True  |               False                |\n| True  | False | False |               False                |\n| False | True  | True  |                True                |\n| False | True  | False |                True                |\n| False | False | True  |                True                |\n| False | False | False |                True                |\n+-------+-------+-------+------------------------------------+\n",
          "output_type": "stream"
        }
      ],
      "execution_count": null
    },
    {
      "cell_type": "markdown",
      "source": [
        "**Punto d)**\n",
        "$(P \\wedge Q) \\rightarrow R$"
      ],
      "metadata": {
        "tags": [],
        "cell_id": "19be12a2ece34d83ad408e9d9551bd0d",
        "deepnote_cell_type": "markdown",
        "id": "XP3fik5MdGXu"
      }
    },
    {
      "cell_type": "code",
      "source": [
        "t12d = ttg.Truths(['p','q','r'],['(p and q) implies r)'], ints=False)\n",
        "print(t12d)"
      ],
      "metadata": {
        "tags": [],
        "cell_id": "fb99ecab36584a2b8fe037b177c88d88",
        "source_hash": "e9d9e595",
        "execution_start": 1662699083655,
        "execution_millis": 815,
        "deepnote_to_be_reexecuted": false,
        "deepnote_cell_type": "code",
        "id": "bOmgmJd4dGXu",
        "outputId": "1ef2cca5-4d59-4d90-c1cf-7fb18d8e0038"
      },
      "outputs": [
        {
          "name": "stdout",
          "text": "+-------+-------+-------+------------------------+\n|   p   |   q   |   r   |  (p and q) implies r)  |\n|-------+-------+-------+------------------------|\n| True  | True  | True  |          True          |\n| True  | True  | False |         False          |\n| True  | False | True  |          True          |\n| True  | False | False |          True          |\n| False | True  | True  |          True          |\n| False | True  | False |          True          |\n| False | False | True  |          True          |\n| False | False | False |          True          |\n+-------+-------+-------+------------------------+\n",
          "output_type": "stream"
        }
      ],
      "execution_count": null
    },
    {
      "cell_type": "markdown",
      "source": [
        "**Punto e)**\n",
        "$P \\rightarrow (Q \\wedge R)$"
      ],
      "metadata": {
        "tags": [],
        "cell_id": "17c6b66bd14a4b7ba77bd1bd7c841d83",
        "deepnote_cell_type": "markdown",
        "id": "1w5RsZ8LdGXv"
      }
    },
    {
      "cell_type": "code",
      "source": [
        "t12e = ttg.Truths(['p','q','r'],['p implies (q and r)'], ints=False)\n",
        "print(t12e)"
      ],
      "metadata": {
        "tags": [],
        "cell_id": "adf56e382e2f4cce9cb06718b29a17f7",
        "source_hash": "437b58c3",
        "execution_start": 1662699083657,
        "execution_millis": 848,
        "deepnote_to_be_reexecuted": false,
        "deepnote_cell_type": "code",
        "id": "kkP8rCO7dGXv",
        "outputId": "13a7d839-3b7a-4267-9a43-9333c2d2b0c8"
      },
      "outputs": [
        {
          "name": "stdout",
          "text": "+-------+-------+-------+-----------------------+\n|   p   |   q   |   r   |  p implies (q and r)  |\n|-------+-------+-------+-----------------------|\n| True  | True  | True  |         True          |\n| True  | True  | False |         False         |\n| True  | False | True  |         False         |\n| True  | False | False |         False         |\n| False | True  | True  |         True          |\n| False | True  | False |         True          |\n| False | False | True  |         True          |\n| False | False | False |         True          |\n+-------+-------+-------+-----------------------+\n",
          "output_type": "stream"
        }
      ],
      "execution_count": null
    },
    {
      "cell_type": "markdown",
      "source": [
        "**Se concluye que**\n",
        "$ P \\rightarrow (Q \\rightarrow R) \\equiv Q \\rightarrow (P \\rightarrow R) \\equiv (P \\wedge Q) \\rightarrow R$"
      ],
      "metadata": {
        "tags": [],
        "cell_id": "493aa323244a45c09ffeb1133ea2ae26",
        "deepnote_cell_type": "markdown",
        "id": "FamOaiGUdGXv"
      }
    },
    {
      "cell_type": "code",
      "source": [
        "print(\"Tabla de verdad de la formula del punto a\\n\",t12a,\"\\nTabla de verdad de la formula del punto b\\n\",t12b,\"\\nTabla de verdad de la formula del punto d\\n\",t12d)"
      ],
      "metadata": {
        "tags": [],
        "cell_id": "cda814a7f3e24fce90a41046a7c7b5dd",
        "source_hash": "4370547c",
        "execution_start": 1662699083773,
        "execution_millis": 738,
        "deepnote_to_be_reexecuted": false,
        "deepnote_cell_type": "code",
        "id": "_robOJf3dGXv",
        "outputId": "66a0c531-0d65-434b-cf4c-c17e75b849e1"
      },
      "outputs": [
        {
          "name": "stdout",
          "text": "Tabla de verdad de la formula del punto a\n +-------+-------+-------+---------------------------+\n|   p   |   q   |   r   |  p implies (q implies r)  |\n|-------+-------+-------+---------------------------|\n| True  | True  | True  |           True            |\n| True  | True  | False |           False           |\n| True  | False | True  |           True            |\n| True  | False | False |           True            |\n| False | True  | True  |           True            |\n| False | True  | False |           True            |\n| False | False | True  |           True            |\n| False | False | False |           True            |\n+-------+-------+-------+---------------------------+ \nTabla de verdad de la formula del punto b\n +-------+-------+-------+----------------------------+\n|   p   |   q   |   r   |  q implies  (p implies r)  |\n|-------+-------+-------+----------------------------|\n| True  | True  | True  |            True            |\n| True  | True  | False |           False            |\n| True  | False | True  |            True            |\n| True  | False | False |            True            |\n| False | True  | True  |            True            |\n| False | True  | False |            True            |\n| False | False | True  |            True            |\n| False | False | False |            True            |\n+-------+-------+-------+----------------------------+ \nTabla de verdad de la formula del punto d\n +-------+-------+-------+------------------------+\n|   p   |   q   |   r   |  (p and q) implies r)  |\n|-------+-------+-------+------------------------|\n| True  | True  | True  |          True          |\n| True  | True  | False |         False          |\n| True  | False | True  |          True          |\n| True  | False | False |          True          |\n| False | True  | True  |          True          |\n| False | True  | False |          True          |\n| False | False | True  |          True          |\n| False | False | False |          True          |\n+-------+-------+-------+------------------------+\n",
          "output_type": "stream"
        }
      ],
      "execution_count": null
    },
    {
      "cell_type": "markdown",
      "source": [
        "**Se concluye que**\n",
        "$(P \\rightarrow Q) \\wedge (P \\rightarrow R) \\equiv P \\rightarrow (Q \\wedge R) $"
      ],
      "metadata": {
        "tags": [],
        "cell_id": "4a9cf86d2d9c4f6c8dd1e33e91d29018",
        "deepnote_cell_type": "markdown",
        "id": "SfIUyzl3dGXv"
      }
    },
    {
      "cell_type": "code",
      "source": [
        "print(\"Tabla de verdad de la formula del punto c\\n\",t12c,\"\\nTabla de verdad de la formula del punto e\\n\",t12e)"
      ],
      "metadata": {
        "tags": [],
        "cell_id": "57269c3ccda240c09d8baa0443d4b55f",
        "source_hash": "59a63aa1",
        "execution_start": 1662699083860,
        "execution_millis": 652,
        "deepnote_to_be_reexecuted": false,
        "deepnote_cell_type": "code",
        "id": "5KxK5SZJdGXv",
        "outputId": "f8bdfe11-a594-4516-e930-d2c83690593a"
      },
      "outputs": [
        {
          "name": "stdout",
          "text": "Tabla de verdad de la formula del punto c\n +-------+-------+-------+------------------------------------+\n|   p   |   q   |   r   |  (p implies q ) and (p implies r)  |\n|-------+-------+-------+------------------------------------|\n| True  | True  | True  |                True                |\n| True  | True  | False |               False                |\n| True  | False | True  |               False                |\n| True  | False | False |               False                |\n| False | True  | True  |                True                |\n| False | True  | False |                True                |\n| False | False | True  |                True                |\n| False | False | False |                True                |\n+-------+-------+-------+------------------------------------+ \nTabla de verdad de la formula del punto e\n +-------+-------+-------+-----------------------+\n|   p   |   q   |   r   |  p implies (q and r)  |\n|-------+-------+-------+-----------------------|\n| True  | True  | True  |         True          |\n| True  | True  | False |         False         |\n| True  | False | True  |         False         |\n| True  | False | False |         False         |\n| False | True  | True  |         True          |\n| False | True  | False |         True          |\n| False | False | True  |         True          |\n| False | False | False |         True          |\n+-------+-------+-------+-----------------------+\n",
          "output_type": "stream"
        }
      ],
      "execution_count": null
    },
    {
      "cell_type": "markdown",
      "source": [
        "# Parte 4\n"
      ],
      "metadata": {
        "tags": [],
        "cell_id": "71aedac41ee94023b41c4531b13aed4b",
        "deepnote_cell_type": "markdown",
        "id": "GE7T8zdydGXw"
      }
    },
    {
      "cell_type": "markdown",
      "source": [
        "En los ejercicios 1 a 12, sea el universo el conjunto U = {1, 2, 3,..., 10}.\n",
        "Sean A = {1, 4, 7, 10}, B = {1, 2, 3, 4, 5} y C = {2, 4, 6, 8}.\n",
        "\n",
        "U = {1,2,3,4,5,6,7,8,9,10}\n",
        "A = {1,4,7,10}\n",
        "B = {1,2,3,4,5}\n",
        "C = {2,4,6,8}"
      ],
      "metadata": {
        "tags": [],
        "cell_id": "284aceae4b3141c0be44740684315ae0",
        "deepnote_cell_type": "markdown",
        "id": "MGP1gcMydGXw"
      }
    },
    {
      "cell_type": "code",
      "source": [
        "U = {1,2,3,4,5,6,7,8,9,10}\n",
        "A = {1,4,7,10}\n",
        "B = {1,2,3,4,5}\n",
        "C = {2,4,6,8}"
      ],
      "metadata": {
        "tags": [],
        "cell_id": "f54f77dfc37c4d65bafb4f1605116b97",
        "source_hash": "199b22da",
        "execution_start": 1662699083919,
        "execution_millis": 1,
        "deepnote_to_be_reexecuted": false,
        "deepnote_cell_type": "code",
        "id": "EOzAaIxhdGXw"
      },
      "outputs": [],
      "execution_count": null
    },
    {
      "cell_type": "code",
      "source": [
        "print('Ejercicio 1: A union B', A.union(B))"
      ],
      "metadata": {
        "tags": [],
        "cell_id": "76165d72531443849127931cd51ee8fb",
        "source_hash": "251f6597",
        "execution_start": 1662699083920,
        "execution_millis": 596,
        "deepnote_to_be_reexecuted": false,
        "deepnote_cell_type": "code",
        "id": "OFBpNVzqdGXw",
        "outputId": "6fb8cabf-af7a-4c37-c410-dae28fc77e21"
      },
      "outputs": [
        {
          "name": "stdout",
          "text": "Ejercicio 1: A union B {1, 2, 3, 4, 5, 7, 10}\n",
          "output_type": "stream"
        }
      ],
      "execution_count": null
    },
    {
      "cell_type": "code",
      "source": [
        "print('Ejercicio 2: B intersección C', B.intersection(C))"
      ],
      "metadata": {
        "tags": [],
        "cell_id": "9538357e7bc944f0bb0dc96823544c5f",
        "allow_embed": false,
        "source_hash": "64ad34c2",
        "execution_start": 1662699083922,
        "execution_millis": 594,
        "deepnote_to_be_reexecuted": false,
        "deepnote_cell_type": "code",
        "id": "8ADV3JmbdGXw",
        "outputId": "87f9810d-d6db-48b9-a19e-a9485ab2ee5e"
      },
      "outputs": [
        {
          "name": "stdout",
          "text": "Ejercicio 2: B intersección C {2, 4}\n",
          "output_type": "stream"
        }
      ],
      "execution_count": null
    },
    {
      "cell_type": "code",
      "source": [
        "print('Ejercicio 3:  Diferencia A-B', A.difference(B))"
      ],
      "metadata": {
        "tags": [],
        "cell_id": "0885a60c085a4d479c01e8d4981147c1",
        "source_hash": "3fdd5a0b",
        "execution_start": 1662699083924,
        "execution_millis": 592,
        "deepnote_to_be_reexecuted": false,
        "deepnote_cell_type": "code",
        "id": "lbR2cITxdGXw",
        "outputId": "ad7f7afa-364d-49a1-af8d-0c504dbd754e"
      },
      "outputs": [
        {
          "name": "stdout",
          "text": "Ejercicio 3:  Diferencia A-B {10, 7}\n",
          "output_type": "stream"
        }
      ],
      "execution_count": null
    },
    {
      "cell_type": "code",
      "source": [
        "print('Ejercicio 4:  Diferencia B-A', B.difference(A))"
      ],
      "metadata": {
        "tags": [],
        "cell_id": "1c8289756c694bb98d5dca8c1db02e14",
        "source_hash": "5fc90929",
        "execution_start": 1662699083928,
        "execution_millis": 589,
        "deepnote_to_be_reexecuted": false,
        "deepnote_cell_type": "code",
        "id": "NL1XFoEmdGXw",
        "outputId": "d650cae9-e4c8-457e-c9e8-378603a65ea7"
      },
      "outputs": [
        {
          "name": "stdout",
          "text": "Ejercicio 4:  Diferencia B-A {2, 3, 5}\n",
          "output_type": "stream"
        }
      ],
      "execution_count": null
    },
    {
      "cell_type": "code",
      "source": [
        "print('Ejercicio 5:  Complemento de A', U.difference(A))"
      ],
      "metadata": {
        "tags": [],
        "cell_id": "847479dbb2c249b696c64fdf53dce23b",
        "source_hash": "49602d4e",
        "execution_start": 1662699083971,
        "execution_millis": 546,
        "deepnote_to_be_reexecuted": false,
        "deepnote_cell_type": "code",
        "id": "hOpK2ApLdGXx",
        "outputId": "12906722-c63e-47d4-a1eb-c14a41a1a9a5"
      },
      "outputs": [
        {
          "name": "stdout",
          "text": "Ejercicio 5:  Complemento de A {2, 3, 5, 6, 8, 9}\n",
          "output_type": "stream"
        }
      ],
      "execution_count": null
    },
    {
      "cell_type": "code",
      "source": [
        "print('Ejercicio 6:  Complemento de C', U.difference(C))"
      ],
      "metadata": {
        "tags": [],
        "cell_id": "8ecb6931d1a149c191d5adc6752fb549",
        "allow_embed": false,
        "source_hash": "411b9e78",
        "execution_start": 1662699083973,
        "execution_millis": 544,
        "deepnote_to_be_reexecuted": false,
        "deepnote_cell_type": "code",
        "id": "-h4qwXT2dGXx",
        "outputId": "cd1a4e9e-5e36-46b4-e07b-d65d622d0ab8"
      },
      "outputs": [
        {
          "name": "stdout",
          "text": "Ejercicio 6:  Complemento de C {1, 3, 5, 7, 9, 10}\n",
          "output_type": "stream"
        }
      ],
      "execution_count": null
    },
    {
      "cell_type": "code",
      "source": [
        "print('Ejercicio 7:  Complemento de U', U.difference(A,B))"
      ],
      "metadata": {
        "tags": [],
        "cell_id": "2f22bcc3af3a459a9cddb2c83e62e8b3",
        "allow_embed": false,
        "source_hash": "eb78814a",
        "execution_start": 1662699083974,
        "execution_millis": 543,
        "deepnote_to_be_reexecuted": false,
        "deepnote_cell_type": "code",
        "id": "_Et1bwf-dGXx",
        "outputId": "c801058f-1a8f-4935-b4e5-3b459ddac3a0"
      },
      "outputs": [
        {
          "name": "stdout",
          "text": "Ejercicio 7:  Complemento de U {6, 8, 9}\n",
          "output_type": "stream"
        }
      ],
      "execution_count": null
    },
    {
      "cell_type": "code",
      "source": [
        "print('Ejercicio 8: A Unión Conjunto vacio', A.union({}))"
      ],
      "metadata": {
        "tags": [],
        "cell_id": "074ca3952f624f7ba3a5d3038e9a1a6f",
        "allow_embed": false,
        "source_hash": "59743ebc",
        "execution_start": 1662699422620,
        "execution_millis": 2,
        "deepnote_to_be_reexecuted": false,
        "deepnote_cell_type": "code",
        "id": "qIeiSJlWdGXx",
        "outputId": "0f1113c1-b935-4df8-8a30-55e44b5d413a"
      },
      "outputs": [
        {
          "name": "stdout",
          "text": "Ejercicio 8: A Unión Conjunto vacio {1, 10, 4, 7}\n",
          "output_type": "stream"
        }
      ],
      "execution_count": null
    },
    {
      "cell_type": "code",
      "source": [
        "print('Ejercicio 9: B Intersección Conjunto vacio', B.union({}))"
      ],
      "metadata": {
        "tags": [],
        "cell_id": "5ba2e53645d64eab9fdfdcf841265ffa",
        "allow_embed": false,
        "source_hash": "c57c1c85",
        "execution_start": 1662699428480,
        "execution_millis": 5,
        "deepnote_to_be_reexecuted": false,
        "deepnote_cell_type": "code",
        "id": "7DC8BnV9dGXx",
        "outputId": "bf28386a-3766-4b5f-8607-f8470e2ef82d"
      },
      "outputs": [
        {
          "name": "stdout",
          "text": "Ejercicio 9: B Intersección Conjunto vacio {1, 2, 3, 4, 5}\n",
          "output_type": "stream"
        }
      ],
      "execution_count": null
    },
    {
      "cell_type": "code",
      "source": [
        "print('Ejercicio 10: A Unión U', A.union(U))"
      ],
      "metadata": {
        "tags": [],
        "cell_id": "f7558709e22a4cb7a76c42b62ad48478",
        "allow_embed": false,
        "source_hash": "ae64f730",
        "execution_start": 1662699128107,
        "execution_millis": 5,
        "deepnote_to_be_reexecuted": false,
        "deepnote_cell_type": "code",
        "id": "41CLSXzOdGXx",
        "outputId": "d69adc1b-4eda-4d89-c8fa-92975a563b18"
      },
      "outputs": [
        {
          "name": "stdout",
          "text": "Ejercicio 10: A Unión U {1, 2, 3, 4, 5, 6, 7, 8, 9, 10}\n",
          "output_type": "stream"
        }
      ],
      "execution_count": null
    },
    {
      "cell_type": "code",
      "source": [
        "print('Ejercicio 11: B Intersección U', B.intersection(U))"
      ],
      "metadata": {
        "tags": [],
        "cell_id": "2c693ca1f5c74d498d76d34272be15fb",
        "allow_embed": false,
        "source_hash": "2f2b9547",
        "execution_start": 1662699199695,
        "execution_millis": 2,
        "deepnote_to_be_reexecuted": false,
        "deepnote_cell_type": "code",
        "id": "aSNV40BDdGXx",
        "outputId": "99a4cfbd-6958-4c44-c41e-db182ce29f3b"
      },
      "outputs": [
        {
          "name": "stdout",
          "text": "Ejercicio 11: B Intersección U {1, 2, 3, 4, 5}\n",
          "output_type": "stream"
        }
      ],
      "execution_count": null
    },
    {
      "cell_type": "code",
      "source": [
        "\n",
        "print('Ejercicio 12: A Intersección (B Unión C)', A.intersection(B.union(C)))"
      ],
      "metadata": {
        "tags": [],
        "cell_id": "41ae2fb6aa544674b6131fc9fdd6087a",
        "allow_embed": false,
        "source_hash": "4945b6e8",
        "execution_start": 1662699328751,
        "execution_millis": 738,
        "deepnote_to_be_reexecuted": false,
        "deepnote_cell_type": "code",
        "id": "02xmOKCHdGXy",
        "outputId": "a78a9275-a0f9-4a01-8bdf-2ef047a9d09f"
      },
      "outputs": [
        {
          "name": "stdout",
          "text": "Ejercicio 12: A Intersección (B Unión C) {1, 4}\n",
          "output_type": "stream"
        }
      ],
      "execution_count": null
    },
    {
      "cell_type": "markdown",
      "source": [
        "<a style='text-decoration:none;line-height:16px;display:flex;color:#5B5B62;padding:10px;justify-content:end;' href='https://deepnote.com?utm_source=created-in-deepnote-cell&projectId=a6414016-e69e-4bcf-8c62-e06f79996a1c' target=\"_blank\">\n",
        "<img alt='Created in deepnote.com' style='display:inline;max-height:16px;margin:0px;margin-right:7.5px;' src='data:image/svg+xml;base64,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' > </img>\n",
        "Created in <span style='font-weight:600;margin-left:4px;'>Deepnote</span></a>"
      ],
      "metadata": {
        "tags": [],
        "created_in_deepnote_cell": true,
        "deepnote_cell_type": "markdown",
        "id": "G0Gq-DJvdGXy"
      }
    }
  ],
  "nbformat": 4,
  "nbformat_minor": 0,
  "metadata": {
    "deepnote": {},
    "orig_nbformat": 2,
    "deepnote_notebook_id": "a0c0f97fdac947fcb70c565d7c3fd9b1",
    "deepnote_persisted_session": {
      "createdAt": "2022-09-09T05:15:44.212Z"
    },
    "deepnote_execution_queue": [],
    "colab": {
      "provenance": []
    }
  }
}